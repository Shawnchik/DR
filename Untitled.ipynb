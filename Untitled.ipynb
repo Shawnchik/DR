{
 "cells": [
  {
   "cell_type": "code",
   "execution_count": 11,
   "metadata": {
    "scrolled": true
   },
   "outputs": [
    {
     "name": "stdout",
     "output_type": "stream",
     "text": [
      "   [1. 1. 1. 1. 1. 1. 1. 1. 1. 1.]\n",
      "   [[1. 1. 1. 1. 1. 1. 1. 1. 1. 1.]]\n",
      "   [0. 0. 0. 0. 0.]\n",
      "    Input201769.csv\n",
      "    2\n",
      "    1.0\n",
      "    [1, 2, 3, 4]\n",
      "2\n",
      "3\n",
      "4\n",
      "5\n"
     ]
    }
   ],
   "source": [
    "import numpy as np\n",
    "import pandas as pd\n",
    "import math\n",
    "print('  ',np.ones(10))\n",
    "print('  ',np.ones((1,10)))\n",
    "print('  ',np.zeros(5))\n",
    "year = 2017\n",
    "name = \"\".join(('Input',str(year),'69.csv'))\n",
    "print('   ',name)\n",
    "#print(pd.read_csv(name).head())\n",
    "print('   ',math.floor(15/15)+1)\n",
    "a = np.ones(15)\n",
    "print('   ',a[6])\n",
    "print(\"   \",[1,2,3,4])\n",
    "i=0\n",
    "for i in range(1,5,1):\n",
    "    i+=1\n",
    "    print(i)\n"
   ]
  },
  {
   "cell_type": "code",
   "execution_count": 3,
   "metadata": {},
   "outputs": [
    {
     "name": "stdout",
     "output_type": "stream",
     "text": [
      "[0. 0. 0. 0. 0. 0. 0. 0. 0. 0. 0. 0. 0. 0. 0. 0. 0. 0. 0. 0. 0. 0. 0. 0.\n",
      " 0. 0. 0. 0. 0. 0. 0. 0. 0. 0. 0. 0. 0. 0. 0. 0. 0. 0. 0. 0. 0. 0. 0. 0.\n",
      " 0. 0. 0. 0. 0. 0. 0. 0. 0. 0. 0. 0.]\n"
     ]
    }
   ],
   "source": [
    "a=np.zeros(60)\n",
    "print(a)"
   ]
  },
  {
   "cell_type": "code",
   "execution_count": 1,
   "metadata": {},
   "outputs": [
    {
     "name": "stdout",
     "output_type": "stream",
     "text": [
      "flg1\n",
      "5\n",
      "10\n",
      "6\n",
      "5\n"
     ]
    }
   ],
   "source": [
    "#import afun\n",
    "from afun import a\n",
    "from aconfig import x0\n",
    "\n",
    "# [a1,b] = afun.a()\n",
    "[a1,b] = a()\n",
    "print(a1)\n",
    "print(x0)\n"
   ]
  },
  {
   "cell_type": "code",
   "execution_count": 28,
   "metadata": {},
   "outputs": [
    {
     "ename": "IndexError",
     "evalue": "too many indices for array",
     "output_type": "error",
     "traceback": [
      "\u001b[0;31m---------------------------------------------------------------------------\u001b[0m",
      "\u001b[0;31mIndexError\u001b[0m                                Traceback (most recent call last)",
      "\u001b[0;32m<ipython-input-28-237e2387bf69>\u001b[0m in \u001b[0;36m<module>\u001b[0;34m()\u001b[0m\n\u001b[1;32m      1\u001b[0m \u001b[0maa\u001b[0m \u001b[0;34m=\u001b[0m \u001b[0mnp\u001b[0m\u001b[0;34m.\u001b[0m\u001b[0marray\u001b[0m\u001b[0;34m(\u001b[0m\u001b[0;34m[\u001b[0m\u001b[0;34m]\u001b[0m\u001b[0;34m,\u001b[0m\u001b[0;34m[\u001b[0m\u001b[0;34m]\u001b[0m\u001b[0;34m)\u001b[0m\u001b[0;34m\u001b[0m\u001b[0m\n\u001b[0;32m----> 2\u001b[0;31m \u001b[0maa\u001b[0m\u001b[0;34m[\u001b[0m\u001b[0;36m0\u001b[0m\u001b[0;34m,\u001b[0m\u001b[0;36m0\u001b[0m\u001b[0;34m]\u001b[0m \u001b[0;34m=\u001b[0m \u001b[0;36m1\u001b[0m\u001b[0;34m\u001b[0m\u001b[0m\n\u001b[0m\u001b[1;32m      3\u001b[0m \u001b[0maa\u001b[0m\u001b[0;34m[\u001b[0m\u001b[0;36m1\u001b[0m\u001b[0;34m,\u001b[0m\u001b[0;36m1\u001b[0m\u001b[0;34m]\u001b[0m \u001b[0;34m=\u001b[0m \u001b[0;36m5\u001b[0m\u001b[0;34m\u001b[0m\u001b[0m\n\u001b[1;32m      4\u001b[0m \u001b[0mprint\u001b[0m\u001b[0;34m(\u001b[0m\u001b[0maa\u001b[0m\u001b[0;34m)\u001b[0m\u001b[0;34m\u001b[0m\u001b[0m\n",
      "\u001b[0;31mIndexError\u001b[0m: too many indices for array"
     ]
    }
   ],
   "source": [
    "aa = np.array([],[])\n",
    "aa[0,0] = 1\n",
    "aa[1,1] = 5\n",
    "print(aa)"
   ]
  },
  {
   "cell_type": "code",
   "execution_count": 18,
   "metadata": {},
   "outputs": [
    {
     "name": "stdout",
     "output_type": "stream",
     "text": [
      "0\n"
     ]
    }
   ],
   "source": [
    "for a in range(0,1,1):\n",
    "    print(a)"
   ]
  },
  {
   "cell_type": "code",
   "execution_count": 15,
   "metadata": {},
   "outputs": [
    {
     "name": "stdout",
     "output_type": "stream",
     "text": [
      "23\n"
     ]
    }
   ],
   "source": [
    "x = 19\n",
    "def af():\n",
    "    #global x\n",
    "    z = x + 4\n",
    "    print(z)\n",
    "\n",
    "af()"
   ]
  },
  {
   "cell_type": "code",
   "execution_count": 11,
   "metadata": {},
   "outputs": [
    {
     "name": "stdout",
     "output_type": "stream",
     "text": [
      "2018\n",
      "[0. 0. 0. 0. 0. 0. 0. 0. 0. 0. 0. 0. 0. 0.]\n",
      "{'year': '', 'm': '', 'aa': array([0., 0., 0., 0., 0., 0., 0., 0., 0., 0., 0., 0., 0., 0.]), 'ae': 1, 'eb': 2, 'ffe': 4, 'dfs': 999, 'asdf': [4, 5, 6], 'qewr': [324, 23], 'er': [99, 0]}\n",
      "   PFAll(上が冬季,下が夏季)  PDINVCDP1     Kp     Ti  PDINVCDP2  Unnamed: 5  \\\n",
      "0             912.5    28.8390  0.042  192.0      0.000       0.088   \n",
      "1            3595.7    56.1440  0.091  384.0     46.737       0.088   \n",
      "2             11653  1415.1000  0.090  303.0      0.000       0.006   \n",
      "3             20939    44.5120  0.078  348.0     46.745       0.006   \n",
      "4               NaN        NaN    NaN    NaN        NaN         NaN   \n",
      "5              2770    40.8030  0.027   47.0      0.000       0.101   \n",
      "6              9626   107.6400  0.045  453.0     54.989       0.093   \n",
      "7               NaN        NaN    NaN    NaN        NaN         NaN   \n",
      "8             912.5    28.8390  0.042  192.0      0.000       0.088   \n",
      "9            3595.7    56.1440  0.091  384.0     46.737       0.088   \n",
      "10              NaN        NaN    NaN    NaN        NaN         NaN   \n",
      "11              NaN        NaN    NaN    NaN        NaN         NaN   \n",
      "12             4625    23.8960  0.043  207.0      0.000       0.070   \n",
      "13              NaN        NaN    NaN    NaN        NaN         NaN   \n",
      "14           winter        NaN    NaN    NaN        NaN         NaN   \n",
      "15           4989.8    29.6180  0.026   15.0      0.000       0.051   \n",
      "16           9983.7    36.9450  0.077   24.0      0.000       0.005   \n",
      "17            10007    37.0320  0.038   32.0      0.000       0.035   \n",
      "18            11501    21.0200  0.083  254.0      0.000       0.050   \n",
      "19            11653  1415.1000  0.090  303.0      0.000       0.001   \n",
      "20           7853.6    23.7850  0.068  482.0      0.000       0.094   \n",
      "21           summer        NaN    NaN    NaN        NaN         NaN   \n",
      "22             9626   107.6400  0.045  453.0     54.989       0.093   \n",
      "23            12665    79.8100  0.064   82.0     59.349       0.099   \n",
      "24            14097    54.1460  0.016  480.0     29.269       0.073   \n",
      "25            18392     5.4589  0.067  351.0      0.000       0.022   \n",
      "26            20939    44.5120  0.078  348.0     46.745       0.006   \n",
      "27              NaN        NaN    NaN    NaN        NaN         NaN   \n",
      "28              NaN        NaN    NaN    NaN        NaN         NaN   \n",
      "\n",
      "    Unnamed: 6  PDINVCDP3  Unnamed: 8  Unnamed: 9     ...       Unnamed: 60  \\\n",
      "0        184.0     34.660       0.089       307.0     ...             390.0   \n",
      "1        184.0     84.111       0.087       198.0     ...             175.0   \n",
      "2        215.0     35.142       0.001       377.0     ...             204.0   \n",
      "3        215.0     82.012       0.100         4.0     ...             147.0   \n",
      "4          NaN        NaN         NaN         NaN     ...               NaN   \n",
      "5        315.0     35.748       0.093       423.0     ...             166.0   \n",
      "6        235.0    406.970       0.072        50.0     ...             453.0   \n",
      "7          NaN        NaN         NaN         NaN     ...               NaN   \n",
      "8        184.0     34.660       0.089       307.0     ...             390.0   \n",
      "9        184.0     84.111       0.087       198.0     ...             175.0   \n",
      "10         NaN        NaN         NaN         NaN     ...               NaN   \n",
      "11         NaN        NaN         NaN         NaN     ...               NaN   \n",
      "12       307.0     58.520       0.029       260.0     ...              72.0   \n",
      "13         NaN        NaN         NaN         NaN     ...               NaN   \n",
      "14         NaN        NaN         NaN         NaN     ...               NaN   \n",
      "15         5.0     34.312       0.084       307.0     ...             271.0   \n",
      "16        73.0     31.425       0.098        12.0     ...             103.0   \n",
      "17        73.0     30.599       0.027        45.0     ...             273.0   \n",
      "18        50.0     39.793       0.063        34.0     ...              74.0   \n",
      "19       427.0     35.142       0.001       377.0     ...             204.0   \n",
      "20       247.0     39.354       0.038       474.0     ...             134.0   \n",
      "21         NaN        NaN         NaN         NaN     ...               NaN   \n",
      "22       235.0    406.970       0.072        50.0     ...             453.0   \n",
      "23       391.0     74.174       0.049       153.0     ...             286.0   \n",
      "24       182.0    114.420       0.014        70.0     ...              15.0   \n",
      "25        56.0     97.981       0.043       102.0     ...             455.0   \n",
      "26       215.0     82.012       0.100         4.0     ...             147.0   \n",
      "27         NaN        NaN         NaN         NaN     ...               NaN   \n",
      "28         NaN        NaN         NaN         NaN     ...               NaN   \n",
      "\n",
      "    PFVlvHP1  Unnamed: 62  Unnamed: 63  PFINVHP1  Unnamed: 65  Unnamed: 66  \\\n",
      "0        0.0        0.081         18.0    151.00        0.007        347.0   \n",
      "1        0.0        0.062        301.0      0.00        0.007        347.0   \n",
      "2        0.0        0.008         84.0   2831.80        0.018        291.0   \n",
      "3        0.0        0.019        348.0      0.00        0.018        291.0   \n",
      "4        NaN          NaN          NaN       NaN          NaN          NaN   \n",
      "5        0.0        0.092        302.0    330.26        0.007        463.0   \n",
      "6        0.0        0.082        478.0      0.00        0.023         61.0   \n",
      "7        NaN          NaN          NaN       NaN          NaN          NaN   \n",
      "8        0.0        0.081         18.0    151.00        0.007        347.0   \n",
      "9        0.0        0.062        301.0      0.00        0.007        347.0   \n",
      "10       NaN          NaN          NaN       NaN          NaN          NaN   \n",
      "11       NaN          NaN          NaN       NaN          NaN          NaN   \n",
      "12       0.0        0.092        238.0   1377.50        0.002        111.0   \n",
      "13       NaN          NaN          NaN       NaN          NaN          NaN   \n",
      "14       NaN          NaN          NaN       NaN          NaN          NaN   \n",
      "15       0.0        0.100          9.0   1246.60        0.007        356.0   \n",
      "16       0.0        0.035        466.0    108.53        0.082        128.0   \n",
      "17       0.0        0.065        332.0    154.13        0.061        361.0   \n",
      "18       0.0        0.060        261.0    214.53        0.023        261.0   \n",
      "19       0.0        0.008         84.0   2831.80        0.018        291.0   \n",
      "20       0.0        0.062        436.0   1119.80        0.015         38.0   \n",
      "21       NaN          NaN          NaN       NaN          NaN          NaN   \n",
      "22       0.0        0.082        478.0      0.00        0.023         61.0   \n",
      "23       0.0        0.003         79.0      0.00        0.015        359.0   \n",
      "24       0.0        0.059        298.0      0.00        0.078        469.0   \n",
      "25       0.0        0.059        281.0      0.00        0.061        346.0   \n",
      "26       0.0        0.019        348.0      0.00        0.056         92.0   \n",
      "27       NaN          NaN          NaN       NaN          NaN          NaN   \n",
      "28       NaN          NaN          NaN       NaN          NaN          NaN   \n",
      "\n",
      "    PFVlvCT  Unnamed: 68  Unnamed: 69  \n",
      "0    54.234        0.063        237.0  \n",
      "1     0.000        0.063        237.0  \n",
      "2    40.442        0.082        357.0  \n",
      "3     0.000        0.082        357.0  \n",
      "4       NaN          NaN          NaN  \n",
      "5    58.259        0.063        236.0  \n",
      "6     0.000        0.080         69.0  \n",
      "7       NaN          NaN          NaN  \n",
      "8    54.234        0.063        237.0  \n",
      "9     0.000        0.063        237.0  \n",
      "10      NaN          NaN          NaN  \n",
      "11      NaN          NaN          NaN  \n",
      "12   54.569        0.002        227.0  \n",
      "13      NaN          NaN          NaN  \n",
      "14      NaN          NaN          NaN  \n",
      "15   55.999        0.060        492.0  \n",
      "16  214.890        0.037         60.0  \n",
      "17  261.070        0.009        297.0  \n",
      "18  104.910        0.050        429.0  \n",
      "19   40.442        0.082        357.0  \n",
      "20  434.430        0.086          3.0  \n",
      "21      NaN          NaN          NaN  \n",
      "22    0.000        0.080         69.0  \n",
      "23    0.000        0.040        215.0  \n",
      "24    0.000        0.051        463.0  \n",
      "25    0.000        0.086        120.0  \n",
      "26    0.000        0.089        291.0  \n",
      "27      NaN          NaN          NaN  \n",
      "28      NaN          NaN          NaN  \n",
      "\n",
      "[29 rows x 70 columns]\n",
      "[4, 5, 6]\n"
     ]
    }
   ],
   "source": [
    "import pandas as pd\n",
    "VARIABLE = {}\n",
    "_no_var = object()\n",
    "\n",
    "def set_var(rkey, rvalue=_no_var,ty=0):\n",
    "    if ty == 0:\n",
    "        i = 0\n",
    "        if rvalue is _no_var:\n",
    "            rvalue = ('')\n",
    "        for key in rkey:\n",
    "            if rvalue == '':\n",
    "                VARIABLE[key] = ''\n",
    "            elif type(rvalue) is int: \n",
    "                VARIABLE[rkey] = rvalue\n",
    "                break\n",
    "            else:\n",
    "                VARIABLE[key] = rvalue[i]\n",
    "            i += 1\n",
    "    elif ty == 1:\n",
    "        VARIABLE[rkey] = rvalue\n",
    "\n",
    "def del_var(key):\n",
    "    try:\n",
    "        del VARIABLE[key]\n",
    "    except KeyError:\n",
    "        print(\"key:'\"+str(key)+\"' is no exist\")\n",
    "\n",
    "\n",
    "def get_var(key):\n",
    "    \n",
    "    try:\n",
    "        if key in 'all':\n",
    "            return VARIABLE\n",
    "        return VARIABLE[key]\n",
    "    except KeyError:\n",
    "        print(\"key:'\" + str(key) + \"' is no exist\")\n",
    "\n",
    "# set_var('year',0)\n",
    "# set_var('m')\n",
    "\n",
    "# print(get_var('year'))\n",
    "# print(get_var('m'))\n",
    "set_var(('year','m'))\n",
    "year = get_var('year')\n",
    "year = 2018\n",
    "print(year)\n",
    "import numpy as np\n",
    "set_var('aa',np.zeros((14)),1)\n",
    "print(VARIABLE['aa'])\n",
    "set_var(('ae','eb','ffe'),(1,2,4))\n",
    "set_var('dfs', 999)\n",
    "set_var(('asdf','qewr','er'),([4,5,6],[324,23],[99,0]))\n",
    "pidp = pd.read_csv('InputPIDparameters.csv')\n",
    "#set_var('PIDparameters',pd.read_csv('InputPIDparameters.csv'))\n",
    "print(VARIABLE)\n",
    "set_var('year',1995)\n",
    "print(pidp)\n",
    "print(get_var('asdf'))\n"
   ]
  },
  {
   "cell_type": "code",
   "execution_count": 73,
   "metadata": {},
   "outputs": [
    {
     "name": "stdout",
     "output_type": "stream",
     "text": [
      "<class 'tuple'>\n"
     ]
    }
   ],
   "source": [
    "print(type((4,5,6)))"
   ]
  },
  {
   "cell_type": "code",
   "execution_count": 39,
   "metadata": {},
   "outputs": [
    {
     "ename": "TypeError",
     "evalue": "__init__() missing 1 required positional argument: 'name'",
     "output_type": "error",
     "traceback": [
      "\u001b[0;31m---------------------------------------------------------------------------\u001b[0m",
      "\u001b[0;31mTypeError\u001b[0m                                 Traceback (most recent call last)",
      "\u001b[0;32m<ipython-input-39-75e1df2fde21>\u001b[0m in \u001b[0;36m<module>\u001b[0;34m()\u001b[0m\n\u001b[1;32m      4\u001b[0m         \u001b[0mself\u001b[0m\u001b[0;34m.\u001b[0m\u001b[0mname\u001b[0m \u001b[0;34m=\u001b[0m \u001b[0mname\u001b[0m\u001b[0;34m\u001b[0m\u001b[0m\n\u001b[1;32m      5\u001b[0m \u001b[0;34m\u001b[0m\u001b[0m\n\u001b[0;32m----> 6\u001b[0;31m \u001b[0ma\u001b[0m \u001b[0;34m=\u001b[0m \u001b[0mHa\u001b[0m\u001b[0;34m(\u001b[0m\u001b[0;34m)\u001b[0m\u001b[0;34m\u001b[0m\u001b[0m\n\u001b[0m\u001b[1;32m      7\u001b[0m \u001b[0;31m#print(a.name)\u001b[0m\u001b[0;34m\u001b[0m\u001b[0;34m\u001b[0m\u001b[0m\n",
      "\u001b[0;31mTypeError\u001b[0m: __init__() missing 1 required positional argument: 'name'"
     ]
    }
   ],
   "source": [
    "class Ha:\n",
    "    tricks = []\n",
    "    def __init__(self,name):\n",
    "        self.name = name\n",
    "\n",
    "a = Ha()\n",
    "#print(a.name)"
   ]
  },
  {
   "cell_type": "code",
   "execution_count": 50,
   "metadata": {},
   "outputs": [
    {
     "data": {
      "text/plain": [
       "['13000', '48000']"
      ]
     },
     "execution_count": 50,
     "metadata": {},
     "output_type": "execute_result"
    }
   ],
   "source": [
    "class Ha:\n",
    "    tricks = []  # common variable in class\n",
    "    def __init__(self,name):\n",
    "        self.name = name\n",
    "    def append(self,trick):\n",
    "        self.tricks.append(trick)\n",
    "a = Ha('kinlde')\n",
    "a.append('13000')\n",
    "b = Ha('apple watch')\n",
    "b.append('48000')\n",
    "a.tricks\n",
    "#print(a.name)"
   ]
  },
  {
   "cell_type": "code",
   "execution_count": 116,
   "metadata": {},
   "outputs": [
    {
     "name": "stdout",
     "output_type": "stream",
     "text": [
      "0\n",
      "2\n"
     ]
    }
   ],
   "source": [
    "class Ha:\n",
    "    tricks = []\n",
    "    count = 0\n",
    "    def __init__(self,name):\n",
    "        self.name = name\n",
    "        count = 1\n",
    "    def cal(self):\n",
    "        c = self.count +2\n",
    "        return c\n",
    "        #print(c)\n",
    "a = Ha('kindle')\n",
    "b = Ha('surface')\n",
    "print(a.count)\n",
    "\n",
    "get = a.cal()\n",
    "print(get)"
   ]
  },
  {
   "cell_type": "code",
   "execution_count": 57,
   "metadata": {},
   "outputs": [
    {
     "name": "stdout",
     "output_type": "stream",
     "text": [
      "hello\n"
     ]
    }
   ],
   "source": [
    "class Ctry:\n",
    "#     def __init__(self):\n",
    "#         pass\n",
    "    def noinit():\n",
    "        print(\"hello\")\n",
    "Ctry.noinit()"
   ]
  },
  {
   "cell_type": "code",
   "execution_count": 119,
   "metadata": {},
   "outputs": [
    {
     "name": "stdout",
     "output_type": "stream",
     "text": [
      "a1.Cal1= 6\n",
      "a1.count= 2\n",
      "a2.Cal2(2= 2\n",
      "a2.count= 2\n",
      "a2.countcal1= 0\n",
      "cal().count= 4\n",
      "a1.Cal1(4)= 5\n",
      "a1.countcal1= 2\n"
     ]
    }
   ],
   "source": [
    "class cal:\n",
    "    y1 = 0\n",
    "    count = 0\n",
    "    countcal1 = 0\n",
    "    def __init__(self):\n",
    "        cal.count += 1\n",
    "    def Cal1(self,x1):\n",
    "        y1 = x1 + 1\n",
    "        self.countcal1 += 1\n",
    "        return y1\n",
    "    def Cal2(self,x2):\n",
    "        y2 = x2 + self.y1\n",
    "        return y2\n",
    "if __name__ == \"__main__\":\n",
    "    a1 = cal()\n",
    "    a2 = cal()\n",
    "    print('a1.Cal1=', a1.Cal1(5))\n",
    "    print('a1.count=',a1.count)\n",
    "    print('a2.Cal2(2=',a2.Cal2(2))\n",
    "    print('a2.count=', a2.count)\n",
    "    cal().Cal2(3)\n",
    "    print('a2.countcal1=', a2.countcal1)\n",
    "    print('cal().count=', cal().count)\n",
    "    print('a1.Cal1(4)=', a1.Cal1(4))\n",
    "    print('a1.countcal1=', a1.countcal1)"
   ]
  },
  {
   "cell_type": "code",
   "execution_count": 109,
   "metadata": {},
   "outputs": [
    {
     "name": "stdout",
     "output_type": "stream",
     "text": [
      "20 22\n",
      "7 23\n"
     ]
    }
   ],
   "source": [
    "#todo simple example for real use\n",
    "#in pep8 self is needed\n",
    "class Test:\n",
    "    def __init__(self):\n",
    "        self.Ti = 15\n",
    "        self.To = 25\n",
    "    def cal1(self, x):\n",
    "        x = self.Ti  + 5\n",
    "        self.To = x + 2\n",
    "        print(x, self.To)\n",
    "    def cal2(self, x):\n",
    "        x = x + 4\n",
    "        self.To += 1\n",
    "        print(x, self.To)\n",
    "    def run(self):\n",
    "        self.cal1(5)\n",
    "        self.cal2(3)\n",
    "if __name__ == \"__main__\":\n",
    "       Test().run()"
   ]
  },
  {
   "cell_type": "code",
   "execution_count": 115,
   "metadata": {},
   "outputs": [
    {
     "name": "stdout",
     "output_type": "stream",
     "text": [
      "error\n"
     ]
    }
   ],
   "source": [
    "mode = 0\n",
    "if mode:\n",
    "    print('ok')\n",
    "else:\n",
    "    print('error')"
   ]
  },
  {
   "cell_type": "code",
   "execution_count": null,
   "metadata": {},
   "outputs": [],
   "source": []
  }
 ],
 "metadata": {
  "kernelspec": {
   "display_name": "Python 3",
   "language": "python",
   "name": "python3"
  },
  "language_info": {
   "codemirror_mode": {
    "name": "ipython",
    "version": 3
   },
   "file_extension": ".py",
   "mimetype": "text/x-python",
   "name": "python",
   "nbconvert_exporter": "python",
   "pygments_lexer": "ipython3",
   "version": "3.7.0"
  }
 },
 "nbformat": 4,
 "nbformat_minor": 2
}
