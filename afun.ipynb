#!/usr/bin/env python
# coding: utf-8

# In[ ]:

def a():
    global x0
    print(x0)
    xx = x0 + 1
    yy = x0 * 1
    return [xx,yy]

